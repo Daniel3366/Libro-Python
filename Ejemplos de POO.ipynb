{
 "cells": [
  {
   "cell_type": "code",
   "execution_count": 2,
   "metadata": {},
   "outputs": [
    {
     "name": "stdout",
     "output_type": "stream",
     "text": [
      "Nombre: Daniel  Edad: 34 Sexo: Masculino\n"
     ]
    }
   ],
   "source": [
    "class Persona:\n",
    "    def __init__(self):\n",
    "        Nombre=\"\"\n",
    "        Edad=0\n",
    "        Sexo=\"\"\n",
    "    def ingresar(self, Nom,Ed,sex):\n",
    "        self.Nombre=Nom\n",
    "        self.Edad=Ed\n",
    "        self.Sexo=sex\n",
    "    def visualizar(self):\n",
    "        print(\"Nombre:\",self.Nombre,\" Edad:\",self.Edad,\"Sexo:\",self.Sexo)\n",
    "obj=Persona()\n",
    "obj.ingresar(\"Daniel\",34,\"Masculino\")\n",
    "obj.visualizar()"
   ]
  },
  {
   "cell_type": "code",
   "execution_count": 3,
   "metadata": {},
   "outputs": [
    {
     "name": "stdout",
     "output_type": "stream",
     "text": [
      "Nombre: Milagros  Edad: 44 Sexo: Femenino\n"
     ]
    }
   ],
   "source": [
    "class Persona:\n",
    "    def __init__(self, Nombre,Edad,Sexo):\n",
    "        self.Nombre=Nombre\n",
    "        self.Edad=Edad\n",
    "        self.Sexo=Sexo\n",
    "    def visualizar(self):\n",
    "        print(\"Nombre:\",self.Nombre,\" Edad:\",self.Edad,\"Sexo:\",self.Sexo)\n",
    "\n",
    "obj=Persona(\"Milagros\",44,\"Femenino\")\n",
    "obj.visualizar()"
   ]
  },
  {
   "cell_type": "markdown",
   "metadata": {},
   "source": [
    "#### 1. Programa que calcula el volumen de un cilindro"
   ]
  },
  {
   "cell_type": "code",
   "execution_count": 9,
   "metadata": {},
   "outputs": [
    {
     "name": "stdout",
     "output_type": "stream",
     "text": [
      "Ingrese el radio:2\n",
      "Ingrese la altura:3\n",
      "El volumen del cilindro es: 37.69911184307752\n"
     ]
    }
   ],
   "source": [
    "import math\n",
    "class Cilindro():\n",
    "    def __init__(self):\n",
    "        self.radio=0\n",
    "        self.altura=0\n",
    "    def ingresar(self):\n",
    "        r=float(input(\"Ingrese el radio:\"))\n",
    "        h=float(input(\"Ingrese la altura:\"))\n",
    "        self.radio=r\n",
    "        self.altura=h\n",
    "        \n",
    "    def volumen(self):\n",
    "        self.ingresar()\n",
    "        v=math.pi*self.radio**2*self.altura\n",
    "        return v\n",
    "    def visualizar(self):\n",
    "        print(\"El volumen del cilindro es:\",self.volumen())\n",
    "\n",
    "obj1=Cilindro()\n",
    "obj1.visualizar()\n",
    "        "
   ]
  },
  {
   "cell_type": "markdown",
   "metadata": {},
   "source": [
    "#### 2. programa que calcula el volumen y area de una caja"
   ]
  },
  {
   "cell_type": "code",
   "execution_count": 12,
   "metadata": {},
   "outputs": [],
   "source": [
    "import math"
   ]
  },
  {
   "cell_type": "code",
   "execution_count": 17,
   "metadata": {},
   "outputs": [
    {
     "name": "stdout",
     "output_type": "stream",
     "text": [
      "Ingrese el ancho:2\n",
      "Ingrese el largo:3\n",
      "Ingrese la altura:4\n",
      "El volumen de la caja es: 24.0\n",
      "El area de la caja es: 52.0\n"
     ]
    }
   ],
   "source": [
    "class Caja(): \n",
    "    def __init__(self):\n",
    "        self.largo=0\n",
    "        self.ancho=0\n",
    "        self.alto=0\n",
    "    def ingresar(self):\n",
    "        a=float(input(\"Ingrese el ancho:\"))\n",
    "        l=float(input(\"Ingrese el largo:\"))\n",
    "        h=float(input(\"Ingrese la altura:\"))\n",
    "        self.largo=l\n",
    "        self.ancho=a\n",
    "        self.alto=h\n",
    "    def volumen(self):\n",
    "        v=self.largo*self.ancho*self.alto\n",
    "        return v\n",
    "    def area(self):\n",
    "        a= 2*(self.largo*self.ancho)+ 2*(self.largo*self.alto)+2*(self.ancho*self.alto)\n",
    "        return a\n",
    "    def visualizar(self):\n",
    "        self.ingresar()\n",
    "        print(\"El volumen de la caja es:\",self.volumen())\n",
    "        print(\"El area de la caja es:\",self.area())\n",
    "miCaja=Caja()\n",
    "miCaja.visualizar()\n",
    "        \n",
    "        "
   ]
  },
  {
   "cell_type": "markdown",
   "metadata": {},
   "source": [
    "#### 3.Crea una clase punto y realiza las operaciones fundamentales de pares ordenados"
   ]
  },
  {
   "cell_type": "code",
   "execution_count": 18,
   "metadata": {},
   "outputs": [
    {
     "name": "stdout",
     "output_type": "stream",
     "text": [
      "Ingrese el primer valor del par:3\n",
      "Ingrese el segundo valor del par:4\n",
      "La suma es : 7.0\n",
      "El producto es: 12.0\n",
      "La diferencia es: -1.0\n"
     ]
    }
   ],
   "source": [
    "class Punto():\n",
    "    def __init__(self):\n",
    "        self.x=0\n",
    "        self.y=0\n",
    "    def ingresar(self):\n",
    "        a=float(input(\"Ingrese el primer valor del par:\"))\n",
    "        b=float(input(\"Ingrese el segundo valor del par:\"))\n",
    "        self.x=a\n",
    "        self.y=b\n",
    "        \n",
    "    def suma(self):\n",
    "        s=self.x+self.y\n",
    "        return s\n",
    "    def resta(self):\n",
    "        s=self.x-self.y\n",
    "        return s\n",
    "    def producto(self):\n",
    "        s=self.x*self.y\n",
    "        return s\n",
    "    def visualizar(self):\n",
    "        self.ingresar()\n",
    "        print(\"La suma es :\" ,self.suma())\n",
    "        print(\"El producto es:\",self.producto())\n",
    "        print(\"La diferencia es:\",self.resta())\n",
    "\n",
    "p=Punto()\n",
    "p.visualizar()\n",
    "        \n",
    "        "
   ]
  },
  {
   "cell_type": "markdown",
   "metadata": {},
   "source": [
    "#### 4. Hacer un programa para una lista de objeto personas"
   ]
  },
  {
   "cell_type": "code",
   "execution_count": 29,
   "metadata": {},
   "outputs": [
    {
     "name": "stdout",
     "output_type": "stream",
     "text": [
      "Ingrese el nombre:Thalia\n",
      "Ingrese la edad:24\n",
      "Ingrese el nombre:Maritza\n",
      "Ingrese la edad:34\n",
      "Ingrese el nombre:Martha\n",
      "Ingrese la edad:21\n",
      "El nombre es: Thalia tiene  24  años\n",
      "El nombre es: Maritza tiene  34  años\n",
      "El nombre es: Martha tiene  21  años\n"
     ]
    }
   ],
   "source": [
    "class Persona:\n",
    "    nombre=\"\"\n",
    "    edad=0\n",
    "    def __init__(self, nombre, edad):\n",
    "        self.nombre=nombre\n",
    "        self.edad=edad\n",
    "    def visualizar(self):\n",
    "        print(\"El nombre es:\",self.nombre,\"tiene \",self.edad,\" años\")\n",
    "\n",
    "per=[]\n",
    "\n",
    "for i in range(3):\n",
    "    nom=input(\"Ingrese el nombre:\")\n",
    "    eda=int(input(\"Ingrese la edad:\"))\n",
    "    per.append(Persona(nom,eda))\n",
    "\n",
    "for i in range(3):\n",
    "    \n",
    "    per[i].visualizar()\n",
    "        "
   ]
  },
  {
   "cell_type": "code",
   "execution_count": 8,
   "metadata": {},
   "outputs": [
    {
     "name": "stdout",
     "output_type": "stream",
     "text": [
      "Dato encontrado\n",
      "12  \n",
      "33  \n",
      "22  \n",
      "53  \n",
      "62  \n",
      "23  \n"
     ]
    }
   ],
   "source": [
    "class Nodo:\n",
    "    info=0\n",
    "    sig=None\n",
    "    def __init__(self, inf):\n",
    "        self.info=inf\n",
    "        sig=None\n",
    "    \n",
    "    def enlace(self, sig):\n",
    "        self.sig=sig\n",
    "    def sacarinfo(self):\n",
    "        return self.info\n",
    "    \n",
    "    def sacarSig(self):\n",
    "        return self.sig\n",
    "class lista:\n",
    "    primero=None\n",
    "    ultimo=None\n",
    "    \n",
    "    def ingresar(self,n):\n",
    "        p=Nodo(n)\n",
    "        if self.primero==None:\n",
    "            self.primero=self.ultimo=p\n",
    "            \n",
    "        else:\n",
    "            self.ultimo.enlace(p)\n",
    "            self.ultimo=p\n",
    "    def buscar(self,n):\n",
    "        p=self.primero\n",
    "        while ( p!=None and p.sacarinfo()!=n):\n",
    "            p=p.sacarSig()\n",
    "        if p==None:\n",
    "            print(\"Dato no encontrado\")\n",
    "        else:\n",
    "            print(\"Dato encontrado\")\n",
    " \n",
    "    def visualizar(self):\n",
    "        p=self.primero\n",
    "        while p!=None:\n",
    "            print(p.sacarinfo(),\" \")\n",
    "            p=p.sacarSig()\n",
    "            \n",
    "l=lista()\n",
    "\n",
    "l.ingresar(12)\n",
    "l.ingresar(33)\n",
    "l.ingresar(22)\n",
    "l.ingresar(53)\n",
    "l.ingresar(62)\n",
    "l.ingresar(23)\n",
    "l.buscar(23)\n",
    "#l.insertar(43,56)\n",
    "l.visualizar()\n",
    "            \n",
    "        "
   ]
  },
  {
   "cell_type": "code",
   "execution_count": 1,
   "metadata": {},
   "outputs": [
    {
     "name": "stdout",
     "output_type": "stream",
     "text": [
      "12  \n",
      "43  \n",
      "48  \n",
      "56  \n",
      "49  \n",
      "50  \n",
      "54  \n"
     ]
    }
   ],
   "source": [
    "class Nodo:\n",
    "    info=0\n",
    "    sig=None\n",
    "    def __init__(self, inf):\n",
    "        self.info=inf\n",
    "        sig=None\n",
    "    \n",
    "    def enlace(self, sig):\n",
    "        self.sig=sig\n",
    "    def sacarinfo(self):\n",
    "        return self.info\n",
    "    \n",
    "    def sacarSig(self):\n",
    "        return self.sig\n",
    "class lista:\n",
    "    primero=None\n",
    "    ultimo=None\n",
    "    \n",
    "    def ingresar(self,n):\n",
    "        p=Nodo(n)\n",
    "        if self.primero==None:\n",
    "            self.primero=self.ultimo=p\n",
    "            \n",
    "        else:\n",
    "            self.ultimo.enlace(p)\n",
    "            self.ultimo=p\n",
    "    def buscar(self,n):\n",
    "        p=self.primero\n",
    "        while ( p!=None and p.sacarinfo()!=n):\n",
    "            p=p.sacarSig()\n",
    "        if p==None:\n",
    "            print(\"Dato no encontrado\")\n",
    "        else:\n",
    "            print(\"Dato encontrado\")\n",
    "    \n",
    "    def insertar(self,r,m):\n",
    "        p=self.primero\n",
    "        while (p!=None and p.sacarinfo()!=m):\n",
    "                p=p.sacarSig()\n",
    "           \n",
    "        if p==None:\n",
    "            self.ultimo.enlace(r)\n",
    "            self.ultimo=r\n",
    "        else:\n",
    "            if p==self.primero:\n",
    "                r.enlace(p)\n",
    "                self.primero=r\n",
    "            else:\n",
    "                if p==self.ultimo:\n",
    "                    p.enlace(r)\n",
    "                    self.ultimo=r\n",
    "                else:\n",
    "                    q=p.sacarSig()\n",
    "                    p.enlace(r)\n",
    "                    r.enlace(q)\n",
    "             \n",
    "         \n",
    "    def visualizar(self):\n",
    "        p=self.primero\n",
    "        while p!=None:\n",
    "            print(p.sacarinfo(),\" \")\n",
    "            p=p.sacarSig()\n",
    "            \n",
    "l=lista()\n",
    "\n",
    "l.ingresar(12)\n",
    "l.ingresar(43)\n",
    "l.ingresar(48)\n",
    "l.ingresar(49)\n",
    "l.ingresar(50)\n",
    "l.ingresar(54)\n",
    "r=Nodo(56)\n",
    "l.insertar(r,48)\n",
    "l.visualizar()\n",
    "            "
   ]
  },
  {
   "cell_type": "code",
   "execution_count": 2,
   "metadata": {},
   "outputs": [
    {
     "name": "stdout",
     "output_type": "stream",
     "text": [
      "12  \n",
      "22  \n",
      "53  \n",
      "62  \n",
      "23  \n"
     ]
    }
   ],
   "source": [
    "class Nodo:\n",
    "    info=0\n",
    "    sig=None\n",
    "    def __init__(self, inf):\n",
    "        self.info=inf\n",
    "        sig=None\n",
    "    \n",
    "    def enlace(self, sig):\n",
    "        self.sig=sig\n",
    "    def sacarinfo(self):\n",
    "        return self.info\n",
    "    \n",
    "    def sacarSig(self):\n",
    "        return self.sig\n",
    "class lista:\n",
    "    primero=None\n",
    "    ultimo=None\n",
    "    \n",
    "    def ingresar(self,n):\n",
    "        p=Nodo(n)\n",
    "        if self.primero==None:\n",
    "            self.primero=self.ultimo=p\n",
    "            \n",
    "        else:\n",
    "            self.ultimo.enlace(p)\n",
    "            self.ultimo=p\n",
    "    def buscar(self,n):\n",
    "        p=self.primero\n",
    "        while ( p!=None and p.sacarinfo()!=n):\n",
    "            p=p.sacarSig()\n",
    "        if p==None:\n",
    "            print(\"Dato no encontrado\")\n",
    "        else:\n",
    "            print(\"Dato encontrado\")\n",
    "    def eliminar(self, n):\n",
    "        p=self.primero\n",
    "        while (p!=None and p.sacarinfo()!=n):\n",
    "            q=p\n",
    "            p=p.sacarSig()\n",
    "        if p!=None:\n",
    "            if p==self.primero:\n",
    "                self.primero=p.sacarSig()\n",
    "            else:\n",
    "                if p==self.ultimo:\n",
    "                    self.ultimo=q\n",
    "                else:\n",
    "                    r=p.sacarSig()\n",
    "                    q.enlace(r)\n",
    "        else:\n",
    "            print(\"no existe datos a eliminar\")\n",
    "                \n",
    "    \n",
    "    def visualizar(self):\n",
    "        p=self.primero\n",
    "        while p!=None:\n",
    "            print(p.sacarinfo(),\" \")\n",
    "            p=p.sacarSig()\n",
    "            \n",
    "l=lista()\n",
    "\n",
    "l.ingresar(12)\n",
    "l.ingresar(33)\n",
    "l.ingresar(22)\n",
    "l.ingresar(53)\n",
    "l.ingresar(62)\n",
    "l.ingresar(23)\n",
    "l.eliminar(33)\n",
    "#l.insertar(43,56)\n",
    "l.visualizar()"
   ]
  },
  {
   "cell_type": "markdown",
   "metadata": {},
   "source": [
    "### clase derivadas"
   ]
  },
  {
   "cell_type": "code",
   "execution_count": 16,
   "metadata": {},
   "outputs": [
    {
     "name": "stdout",
     "output_type": "stream",
     "text": [
      "Ingrese el rado de la circunferencia2\n",
      "Ingrese la altura del cilindro3\n",
      "El area de la circunferencia  es: 12.566370614359172\n",
      "El volumen del cilindro es: 37.69911184307752\n",
      "El volumen del cono es: 12.566370614359172\n"
     ]
    }
   ],
   "source": [
    "import math\n",
    "class Circunferencia:\n",
    "    radio=0\n",
    "    def __init__(self,r):\n",
    "        self.radio=r\n",
    "    def area(self):\n",
    "        A=math.pi*self.radio**2\n",
    "        return A\n",
    "    def visualizar(self):\n",
    "        print(\"El area de la circunferencia  es:\",self.area())\n",
    "class Cilindro(Circunferencia):\n",
    "        altura=0\n",
    "        def __init__(self,h,r):\n",
    "            super().__init__(r)\n",
    "            self.altura=h\n",
    "            \n",
    "        def volumen(self):\n",
    "            v=super().area()*self.altura\n",
    "            return v\n",
    "        def visualizar(self):\n",
    "            print(\"El volumen del cilindro es:\",self.volumen())\n",
    "class Cono(Circunferencia):\n",
    "        altura=0\n",
    "        def __init__(self,h,r):\n",
    "            super().__init__(r)\n",
    "            self.altura=h\n",
    "        def volumen(self):\n",
    "            v=super().area()*self.altura/3\n",
    "            return v\n",
    "        def visualizar(self):\n",
    "            print(\"El volumen del cono es:\",self.volumen())\n",
    "r=float(input(\"Ingrese el rado de la circunferencia\"))\n",
    "h=float(input(\"Ingrese la altura del cilindro\"))\n",
    "\n",
    "obj=Circunferencia(r)\n",
    "obj.visualizar()\n",
    "obj2=Cilindro(h,r)\n",
    "obj2.visualizar()\n",
    "obj2=Cono(h,r)\n",
    "obj2.visualizar()"
   ]
  },
  {
   "cell_type": "code",
   "execution_count": 2,
   "metadata": {},
   "outputs": [
    {
     "name": "stdout",
     "output_type": "stream",
     "text": [
      "\n",
      " Persona:\n",
      "Nombre: Juan Edad 34 Sexo Masculino\n",
      "\n",
      " Estudiantes:\n",
      "\n",
      " Persona:\n",
      "Nombre: Tania Edad 23 Sexo Femenino\n",
      "codigo: 1002 Nota: 14 Ciclo: quinto\n"
     ]
    }
   ],
   "source": [
    "class Persona:\n",
    "    def __init__(self,nombre,edad,sexo):\n",
    "        self.nombre=nombre\n",
    "        self.edad=edad\n",
    "        self.sexo=sexo\n",
    "    def visualizar(self):\n",
    "        print(\"\\n Persona:\")\n",
    "        print(\"Nombre:\",self.nombre,\"Edad\",self.edad,\"Sexo\",self.sexo)\n",
    "class Estudiante(Persona):\n",
    "    \n",
    "    def __init__(self,codigo,nota,ciclo,nombre,edad,sexo):\n",
    "        \n",
    "        super().__init__(nombre,edad,sexo)\n",
    "        self.codigo=codigo\n",
    "        self.nota=nota\n",
    "        self.ciclo=ciclo\n",
    "    def visualizar(self):\n",
    "        print(\"\\n Estudiantes:\")\n",
    "        super().visualizar()\n",
    "        print(\"codigo:\",self.codigo,\"Nota:\",self.nota,\"Ciclo:\",self.ciclo)\n",
    "obj1=Persona(\"Juan\",34,\"Masculino\")        \n",
    "obj2=Estudiante(\"1002\",14,\"quinto\",\"Tania\",23,\"Femenino\")\n",
    "\n",
    "obj1.visualizar()\n",
    "obj2.visualizar()\n"
   ]
  },
  {
   "cell_type": "code",
   "execution_count": 16,
   "metadata": {},
   "outputs": [
    {
     "name": "stdout",
     "output_type": "stream",
     "text": [
      "\n",
      " Estudiantes:\n",
      "Nombre: Tania Edad 23 Sexo Mujer\n",
      "codigo: 1002 Nota: 14 Ciclo: quinto\n",
      "\n",
      " Docentes: \n",
      "Nombre: Daniel Edad 54 Sexo Varon\n",
      "Categoria: Principal Grado: Doctor\n"
     ]
    }
   ],
   "source": [
    "class Persona:\n",
    "    def __init__(self,nombre,edad,sexo):\n",
    "        self.nombre=nombre\n",
    "        self.edad=edad\n",
    "        self.sexo=sexo\n",
    "    def visualizar(self):\n",
    "        print(\"Nombre:\",self.nombre,\"Edad\",self.edad,\"Sexo\",self.sexo)\n",
    "class Estudiante(Persona):\n",
    "    \n",
    "    def __init__(self,codigo,nota,ciclo,nombre,edad,sexo):\n",
    "        \n",
    "        super().__init__(nombre,edad,sexo)\n",
    "        self.codigo=codigo\n",
    "        self.nota=nota\n",
    "        self.ciclo=ciclo\n",
    "    def visualizar(self):\n",
    "        print(\"\\n Estudiantes:\")\n",
    "        super().visualizar()\n",
    "        print(\"codigo:\",self.codigo,\"Nota:\",self.nota,\"Ciclo:\",self.ciclo)\n",
    "\n",
    "class Docente(Persona):\n",
    "    \n",
    "    def __init__(self,categoria,grado,nombre,edad,sexo):\n",
    "        \n",
    "        super().__init__(nombre,edad,sexo)\n",
    "        self.categoria=categoria\n",
    "        self.grado=grado\n",
    "        \n",
    "    def visualizar(self):\n",
    "        print(\"\\n Docentes: \")\n",
    "        super().visualizar()\n",
    "        print(\"Categoria:\",self.categoria,\"Grado:\",self.grado)\n",
    "Tania=Estudiante(\"1002\",14,\"quinto\",\"Tania\",23,\"Mujer\")\n",
    "Tania.visualizar()\n",
    "Daniel=Docente(\"Principal\",\"Doctor\",\"Daniel\",54,\"Varon\")\n",
    "Daniel.visualizar()\n"
   ]
  },
  {
   "cell_type": "markdown",
   "metadata": {},
   "source": [
    "#### Polimorfismo"
   ]
  },
  {
   "cell_type": "code",
   "execution_count": 33,
   "metadata": {},
   "outputs": [
    {
     "name": "stdout",
     "output_type": "stream",
     "text": [
      "Ingrese el largo:2\n",
      "ingrese el ancho3\n",
      "Ingrese la altura:2\n",
      "El area es: 6.0\n",
      "El volumen del prisma es: 12.0\n"
     ]
    }
   ],
   "source": [
    "class Rectangulo:\n",
    "    largo=0\n",
    "    ancho=0\n",
    "    def __init__(self,l,a):\n",
    "        self.largo=l\n",
    "        self.ancho=a\n",
    "    def ingresar(self):\n",
    "        l=float(input(\"Ingrese el largo:\"))\n",
    "        a=float(input(\"ingrese el ancho:\"))\n",
    "        self.largo=l\n",
    "        self.ancho=a\n",
    "    def area(self):\n",
    "        area=self.largo*self.ancho\n",
    "        return area\n",
    "    def visualizar(self):\n",
    "        print(\"El area del cuadrado es:\",self.area())\n",
    "class Prisma(rectangulo):\n",
    "    def __init__(self,largo,ancho,alto):\n",
    "        super().__init__(largo,ancho)\n",
    "        self.alto=alto\n",
    "    def ingresar(self):\n",
    "        super().ingresar()\n",
    "        alt=float(input(\"Ingrese la altura:\"))\n",
    "        self.alto=alt\n",
    "    def volumen(self):\n",
    "        vol=super().area()*self.alto\n",
    "        return vol\n",
    "    def visualizar(self):\n",
    "        super().visualizar()\n",
    "        print(\"El volumen del prisma es:\",self.volumen())\n",
    "def ingresando(datos):\n",
    "    datos.ingresar()\n",
    "def visualizando(figura):\n",
    "    figura.visualizar()\n",
    "obj1=Rectangulo(0,0)    \n",
    "obj2=Prisma(0,0,0)\n",
    "ingresando(obj2)\n",
    "visualizando(obj2)"
   ]
  },
  {
   "cell_type": "markdown",
   "metadata": {},
   "source": []
  },
  {
   "cell_type": "code",
   "execution_count": 34,
   "metadata": {},
   "outputs": [
    {
     "name": "stdout",
     "output_type": "stream",
     "text": [
      "Ingrese el nombre: Daniel\n",
      "Ingrese la edad: 23\n",
      "Nombre:  Daniel\n",
      "Edad:  23\n",
      "Ingrese el nombre: Danto\n",
      "Ingrese la edad: 23\n",
      "Ingrese el sueldo: 123\n",
      "Nombre:  Danto\n",
      "Edad:  23\n",
      "Sueldo:  123.0\n",
      "El empleado no paga impuestos.\n"
     ]
    }
   ],
   "source": [
    "class Persona:\n",
    "    # declaramos el metodo __init__\n",
    "    def __init__(self):\n",
    "        self.nombre=input(\"Ingrese el nombre: \")\n",
    "        self.edad=int(input(\"Ingrese la edad: \"))\n",
    " \n",
    " \n",
    "    # declaramos el metodo mostrar\n",
    "    def mostrar(self):\n",
    "        print(\"Nombre: \",self.nombre)\n",
    "        print(\"Edad: \",self.edad)\n",
    " \n",
    " \n",
    "# declaramos la clase empleado\n",
    "# la clase empleado hereda los atributos y metodos de la clase Persona\n",
    "class Empleado(Persona):\n",
    "    # declaramos el metodo __init__\n",
    "    def __init__(self):\n",
    "        # llamamos al metodo init de la clase padre\n",
    "        # utilizamos la funcion super() para hacer referencia al padre\n",
    "        super().__init__()\n",
    "        self.sueldo=float(input(\"Ingrese el sueldo: \"))\n",
    " \n",
    " \n",
    "    # declaramos el metodo mostrar\n",
    "    def mostrar(self):\n",
    "        super().mostrar()\n",
    "        print(\"Sueldo: \",self.sueldo)\n",
    " \n",
    " \n",
    "    # declaramos el metodo pagar_impuestos\n",
    "    # comprobara si el empleado debe pagar o no\n",
    "    def pagar_impuestos(self):\n",
    "        if self.sueldo > 3000:\n",
    "            print(\"El empleado debe pagar impuestos.\")\n",
    "        else:\n",
    "            print(\"El empleado no paga impuestos.\")\n",
    "# bloque principal\n",
    "persona1=Persona()\n",
    "persona1.mostrar()\n",
    "empleado1=Empleado()\n",
    "empleado1.mostrar()\n",
    "empleado1.pagar_impuestos()"
   ]
  },
  {
   "cell_type": "code",
   "execution_count": 6,
   "metadata": {},
   "outputs": [
    {
     "name": "stdout",
     "output_type": "stream",
     "text": [
      "ingrese el primer componente:2\n",
      "ingrese el segundo componente:3\n",
      "ingrese el primer componente:1\n",
      "ingrese el segundo componente:2\n",
      "ingrese el primer componente:3\n",
      "ingrese el segundo componente:4\n",
      "ingrese el primer componente:1\n",
      "ingrese el segundo componente:4\n",
      "2.0   3.0\n",
      "1.0   2.0\n",
      "3.0   4.0\n",
      "1.0   4.0\n"
     ]
    }
   ],
   "source": [
    "class  Nodo:\n",
    "    def __init__(self):\n",
    "        self.x=float(input(\"ingrese el primer componente:\"))\n",
    "        self.y=float(input(\"ingrese el segundo componente:\"))\n",
    "    def sacarX(self):\n",
    "        return self.x\n",
    "    def sacarY(self):\n",
    "        return self.y\n",
    "    def insertarX(self,x):\n",
    "        self.x=x\n",
    "    def insertarY(self,y):\n",
    "        self.y=y\n",
    "class NodoD(Nodo):\n",
    "    def __init__(self):\n",
    "        super().__init__()\n",
    "        self.sig=None\n",
    "    def sacarSig(self):\n",
    "        return self.sig\n",
    "    def enlaceSig(self,sig):\n",
    "        self.sig=sig\n",
    "class Lista:\n",
    "    def __init__(self):\n",
    "        self.primero=None\n",
    "        self.ultimo=None\n",
    "        \n",
    "    def ingresar(self):\n",
    "        p=NodoD()\n",
    "        if  self.primero==None:\n",
    "            self.primero=self.ultimo=p\n",
    "        else:\n",
    "            self.ultimo.enlaceSig(p)\n",
    "            self.ultimo=p\n",
    "    def visualizar(self):\n",
    "        \n",
    "        p=self.primero\n",
    "        while p!=None:\n",
    "            print(p.sacarX(),\" \",p.sacarY())\n",
    "            p=p.sacarSig()\n",
    "\n",
    "L=Lista()\n",
    "L.ingresar()\n",
    "L.ingresar()\n",
    "L.ingresar()\n",
    "L.ingresar()\n",
    "L.visualizar()\n",
    "        \n",
    "       \n"
   ]
  },
  {
   "cell_type": "markdown",
   "metadata": {},
   "source": [
    "#### Encapsulamiento"
   ]
  },
  {
   "cell_type": "code",
   "execution_count": 28,
   "metadata": {},
   "outputs": [
    {
     "name": "stdout",
     "output_type": "stream",
     "text": [
      "Ingrese un nùmero entero:5\n",
      " La suma es: 10\n"
     ]
    }
   ],
   "source": [
    "class Suma:\n",
    "    def __init__(self):\n",
    "        self.n=int(input(\"Ingrese un nùmero entero:\"))\n",
    "    def __sumar(self,n):\n",
    "        s=0\n",
    "        for i in range(n):\n",
    "               s=s+i \n",
    "        return s\n",
    "    def visualizar(self):\n",
    "        print(\" La suma es:\",self.__sumar(self.n))\n",
    "ob=Suma()        \n",
    "ob.visualizar()"
   ]
  },
  {
   "cell_type": "code",
   "execution_count": 29,
   "metadata": {},
   "outputs": [
    {
     "name": "stdout",
     "output_type": "stream",
     "text": [
      "Ingrese a un numero entero:3\n",
      "El factorial es: 6\n"
     ]
    }
   ],
   "source": [
    "class Factorial:\n",
    "    def __init__(self):\n",
    "        self.n=int(input(\"Ingrese a un numero entero:\"))\n",
    "    def __Calculo_Factorial(self,n):\n",
    "        F=1\n",
    "        if n==0:\n",
    "            return 1\n",
    "        for i in range(1,n+1):\n",
    "            F=F*i\n",
    "        return F\n",
    "    def visualizar(self):\n",
    "        print(\"El factorial es:\",self.__Calculo_Factorial(self.n))\n",
    "\n",
    "ob=Factorial()\n",
    "ob.visualizar()"
   ]
  },
  {
   "cell_type": "code",
   "execution_count": 27,
   "metadata": {},
   "outputs": [
    {
     "name": "stdout",
     "output_type": "stream",
     "text": [
      "Ingresar primer numero:4\n",
      "Ingresar primer segundo10\n",
      "El maximo comun divisor es: 2\n"
     ]
    }
   ],
   "source": [
    "class MCD:\n",
    "    def __init__(self):\n",
    "        self.a=int(input(\"Ingresar primer numero:\"))\n",
    "        self.b=int(input(\"Ingresar primer segundo\"))\n",
    "    def __calcular_mcd(self,a,b):\n",
    "        r=1\n",
    "        while r!=0:\n",
    "            r=a%b\n",
    "            a=b\n",
    "            b=r\n",
    "        return a\n",
    "    def visualizar(self):\n",
    "        print(\"El maximo comun divisor es:\",self.__calcular_mcd(self.a,self.b))\n",
    "ob=MCD()\n",
    "ob.visualizar()"
   ]
  },
  {
   "cell_type": "code",
   "execution_count": 26,
   "metadata": {},
   "outputs": [
    {
     "name": "stdout",
     "output_type": "stream",
     "text": [
      "ingrese un numero positivo6\n",
      "El numero no es primo\n"
     ]
    }
   ],
   "source": [
    "class Primo:\n",
    "    def __init__(self):\n",
    "        self.n=int(input(\"ingrese un numero positivo:\"))\n",
    "    def __Comprueba(self):\n",
    "        k=0\n",
    "        for i in range(2,self.n):\n",
    "            if self.n%i==0:\n",
    "                k=1\n",
    "        if k==1:\n",
    "            return False\n",
    "        else:\n",
    "            return True\n",
    "    def visualizar(self):\n",
    "        if self.__Comprueba():\n",
    "            print(\"El numero es primo\")\n",
    "        else:\n",
    "            print(\"El numero no es primo\")\n",
    "ob=Primo()\n",
    "ob.visualizar()"
   ]
  },
  {
   "cell_type": "markdown",
   "metadata": {},
   "source": [
    "#### Herencia multiple"
   ]
  },
  {
   "cell_type": "code",
   "execution_count": 45,
   "metadata": {},
   "outputs": [
    {
     "name": "stdout",
     "output_type": "stream",
     "text": [
      "Ingrese el nombre:Daniel\n",
      "Ingrese el DNI1234\n",
      "Ingrese la especialidad:Matematica\n",
      "Ingrese la categoria:Juarado\n",
      "Ingrese la funcion:asesor\n",
      "_______________________________________\n",
      "\n",
      "Nombre: Daniel\n",
      "El DNI es: 1234\n",
      "La especialidad es: Matematica\n",
      "La categoria es: Juarado\n",
      "La funcion es: asesor\n"
     ]
    }
   ],
   "source": [
    "class Persona:\n",
    "    def __init__(self):\n",
    "        self.Nombre=input(\"Ingrese el nombre:\")\n",
    "        self.DNI=int(input(\"Ingrese el DNI\"))\n",
    "    def mostrar(self):\n",
    "        print(\"_______________________________________\\n\")\n",
    "        print(\"Nombre:\",self.Nombre)\n",
    "        print(\"El DNI es:\",self.DNI)\n",
    "class Profesor(Persona):\n",
    "    def __init__(self):\n",
    "        super().__init__()\n",
    "        self.categoria=input(\"Ingrese la categoria:\")\n",
    "    def mostrar(self):\n",
    "        super().mostrar()\n",
    "        print(\"La categoria es:\",self.categoria)\n",
    "class Investigador(Persona):\n",
    "    def __init__(self):\n",
    "        super().__init__()\n",
    "        self.especialidad=input(\"Ingrese la especialidad:\")\n",
    "    def mostrar(self):\n",
    "        super().mostrar()\n",
    "        print(\"La especialidad es:\",self.especialidad)\n",
    "class ProfeInvestigador(Profesor,Investigador):\n",
    "    def __init__(self):\n",
    "        super().__init__()\n",
    "        self.funcion=input(\"Ingrese la funcion:\")\n",
    "    def mostrar(self):\n",
    "        super().mostrar()\n",
    "        print(\"La funcion es:\",self.funcion)\n",
    "        \n",
    "ob=ProfeInvestigador()\n",
    "ob.mostrar()"
   ]
  },
  {
   "cell_type": "code",
   "execution_count": null,
   "metadata": {},
   "outputs": [],
   "source": []
  }
 ],
 "metadata": {
  "kernelspec": {
   "display_name": "Python 3",
   "language": "python",
   "name": "python3"
  },
  "language_info": {
   "codemirror_mode": {
    "name": "ipython",
    "version": 3
   },
   "file_extension": ".py",
   "mimetype": "text/x-python",
   "name": "python",
   "nbconvert_exporter": "python",
   "pygments_lexer": "ipython3",
   "version": "3.8.3"
  }
 },
 "nbformat": 4,
 "nbformat_minor": 4
}
